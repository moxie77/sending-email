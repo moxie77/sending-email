{
 "cells": [
  {
   "cell_type": "markdown",
   "metadata": {},
   "source": [
    "## Class-Work 3"
   ]
  },
  {
   "cell_type": "markdown",
   "metadata": {},
   "source": [
    "### EXERCISE"
   ]
  },
  {
   "cell_type": "markdown",
   "metadata": {},
   "source": [
    "Using the students_contact.csv file, send a personalized email to each student Reminding them of the research seminar coming up this Thursday. If the student is one of the presenters, please include it in the message. Message format sample: Hi Aminat,\n",
    "I hope this mail meets you well. This is to remind you of the RAIN seminar coming up on:\n",
    "Date: Thursday, 20th of August, 2020.\n",
    "Time: 13:00 GMT\n",
    "Venue: The Robotics Laboratory.\n",
    "Do not forget to prepare your slides as you are one of the presenters. Thanks.\n",
    "Regards,\n",
    "Academic Director, RAIN."
   ]
  },
  {
   "cell_type": "code",
   "execution_count": 1,
   "metadata": {},
   "outputs": [],
   "source": [
    "import pandas as pd\n",
    "import smtplib\n",
    "import os\n",
    "from email.message import EmailMessage"
   ]
  },
  {
   "cell_type": "code",
   "execution_count": 3,
   "metadata": {},
   "outputs": [],
   "source": [
    "#Checking the os for username and password and logging in. \n",
    "username = os.environ.get('email_user')\n",
    "user_password = os.environ.get('user_pass')\n",
    "#print(username,user_password)\n",
    "with smtplib.SMTP_SSL('smtp.gmail.com', 465) as smtp:\n",
    "    smtp.login(username, user_password)"
   ]
  },
  {
   "cell_type": "code",
   "execution_count": 6,
   "metadata": {},
   "outputs": [],
   "source": [
    "#Reading the student csv file \n",
    "data = pd.read_csv('Students_contact.csv')"
   ]
  },
  {
   "cell_type": "code",
   "execution_count": 7,
   "metadata": {},
   "outputs": [
    {
     "data": {
      "text/html": [
       "<div>\n",
       "<style scoped>\n",
       "    .dataframe tbody tr th:only-of-type {\n",
       "        vertical-align: middle;\n",
       "    }\n",
       "\n",
       "    .dataframe tbody tr th {\n",
       "        vertical-align: top;\n",
       "    }\n",
       "\n",
       "    .dataframe thead th {\n",
       "        text-align: right;\n",
       "    }\n",
       "</style>\n",
       "<table border=\"1\" class=\"dataframe\">\n",
       "  <thead>\n",
       "    <tr style=\"text-align: right;\">\n",
       "      <th></th>\n",
       "      <th>NAME</th>\n",
       "      <th>EMAIL</th>\n",
       "      <th>PRESENTER</th>\n",
       "    </tr>\n",
       "  </thead>\n",
       "  <tbody>\n",
       "    <tr>\n",
       "      <th>0</th>\n",
       "      <td>James Ekene</td>\n",
       "      <td>jamesekene8@gmail.com</td>\n",
       "      <td>Yes</td>\n",
       "    </tr>\n",
       "    <tr>\n",
       "      <th>1</th>\n",
       "      <td>Olubayode Ebenezer</td>\n",
       "      <td>olubayodeeben@yahoo.com</td>\n",
       "      <td>NaN</td>\n",
       "    </tr>\n",
       "    <tr>\n",
       "      <th>2</th>\n",
       "      <td>Nnorom Amaka</td>\n",
       "      <td>helloamaka@gmail.com</td>\n",
       "      <td>Yes</td>\n",
       "    </tr>\n",
       "    <tr>\n",
       "      <th>3</th>\n",
       "      <td>Adewumi Mayowa</td>\n",
       "      <td>mayowabammy@gmail.com</td>\n",
       "      <td>NaN</td>\n",
       "    </tr>\n",
       "    <tr>\n",
       "      <th>4</th>\n",
       "      <td>Aminat Akinyemi</td>\n",
       "      <td>aaebunoluwa@gmail.com</td>\n",
       "      <td>NaN</td>\n",
       "    </tr>\n",
       "    <tr>\n",
       "      <th>5</th>\n",
       "      <td>Aminat Ayoola</td>\n",
       "      <td>TripleAEbun@gmail.com</td>\n",
       "      <td>Yes</td>\n",
       "    </tr>\n",
       "  </tbody>\n",
       "</table>\n",
       "</div>"
      ],
      "text/plain": [
       "                 NAME                    EMAIL PRESENTER\n",
       "0         James Ekene    jamesekene8@gmail.com       Yes\n",
       "1  Olubayode Ebenezer  olubayodeeben@yahoo.com       NaN\n",
       "2        Nnorom Amaka     helloamaka@gmail.com       Yes\n",
       "3      Adewumi Mayowa    mayowabammy@gmail.com       NaN\n",
       "4     Aminat Akinyemi    aaebunoluwa@gmail.com       NaN\n",
       "5       Aminat Ayoola    TripleAEbun@gmail.com       Yes"
      ]
     },
     "execution_count": 7,
     "metadata": {},
     "output_type": "execute_result"
    }
   ],
   "source": [
    "data"
   ]
  },
  {
   "cell_type": "code",
   "execution_count": 13,
   "metadata": {},
   "outputs": [
    {
     "name": "stdout",
     "output_type": "stream",
     "text": [
      "I interrupted the keyborad\n"
     ]
    }
   ],
   "source": [
    "try:\n",
    "    for row in data.itertuples(index=True, name='Pandas'):\n",
    "        msg = EmailMessage()\n",
    "        msg['From'] = username\n",
    "        msg['To'] = row.EMAIL\n",
    "        msg['Reply-to']= username\n",
    "        msg['Subject'] = 'Research Seminar Reminder'\n",
    "        if row.PRESENTER =='Yes':\n",
    "            msg.set_content(f'''\n",
    "            <!DOCTYPE html>\n",
    "            <html>\n",
    "                <body>\n",
    "                    <p> Hi {row.NAME},</p>\n",
    "                    <p>I hope this mail meets you well. This is to remind you of the RAIN seminar coming up on:</p>\n",
    "                    <p>Date: Thursday, 20th of August, 2020.</p>\n",
    "                    <p>Time: 13:00 GMT</p>\n",
    "                    <p>Venue: The Robotics Laboratory.</p>\n",
    "                    <p>Do not forget to prepare your slides as you are one of the presenters. Thanks.</p>\n",
    "                    <p>Regards,</p>\n",
    "                    <p>Academic Director, RAIN</p>\n",
    "                </body>\n",
    "            </html>\n",
    "            ''',subtype='html') \n",
    "            with smtplib.SMTP_SSL('smtp.gmail.com', 465) as smtp:\n",
    "                smtp.login(username, user_password)\n",
    "                smtp.send_message(msg)\n",
    "        else:\n",
    "            msg.set_content(f'''\n",
    "            <!DOCTYPE html>\n",
    "            <html>\n",
    "                <body>\n",
    "                    <p> Hi {row.NAME},</p>\n",
    "                    <p>I hope this mail meets you well. This is to remind you of the RAIN seminar coming up on:</p>\n",
    "                    <p>Date: Thursday, 20th of August, 2020.</p>\n",
    "                    <p>Time: 13:00 GMT</p>\n",
    "                    <p>Venue: The Robotics Laboratory.</p>\n",
    "                    <p>Regards,</p>\n",
    "                    <p>Academic Director, RAIN</p>\n",
    "                </body>\n",
    "            </html>\n",
    "            ''',subtype='html')\n",
    "            with smtplib.SMTP_SSL('smtp.gmail.com', 465) as smtp:\n",
    "                smtp.login(username, user_password)\n",
    "                smtp.send_message(msg)\n",
    "except KeyboardInterrupt:\n",
    "    print('I interrupted the keyborad')"
   ]
  },
  {
   "cell_type": "code",
   "execution_count": null,
   "metadata": {},
   "outputs": [],
   "source": []
  },
  {
   "cell_type": "code",
   "execution_count": null,
   "metadata": {},
   "outputs": [],
   "source": []
  }
 ],
 "metadata": {
  "kernelspec": {
   "display_name": "Python 3",
   "language": "python",
   "name": "python3"
  },
  "language_info": {
   "codemirror_mode": {
    "name": "ipython",
    "version": 3
   },
   "file_extension": ".py",
   "mimetype": "text/x-python",
   "name": "python",
   "nbconvert_exporter": "python",
   "pygments_lexer": "ipython3",
   "version": "3.8.0"
  }
 },
 "nbformat": 4,
 "nbformat_minor": 4
}
